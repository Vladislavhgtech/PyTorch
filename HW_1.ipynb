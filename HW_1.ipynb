{
 "cells": [
  {
   "cell_type": "code",
   "execution_count": 1,
   "metadata": {},
   "outputs": [],
   "source": [
    "import torch\n",
    "import torchvision\n",
    "import torchvision.transforms as T\n",
    "from torch import nn \n",
    "from torch import optim\n",
    "import torch.nn.functional as F\n",
    "import torchvision.datasets as dset\n",
    "from torch.utils.data import sampler\n",
    "from torch.utils.data import DataLoader\n",
    "from torch.autograd import Variable\n",
    "\n",
    "import matplotlib.pyplot as plt ### воспользуемся для отображения изображения\n",
    "import numpy as np\n",
    "import pandas as pd"
   ]
  },
  {
   "cell_type": "code",
   "execution_count": 2,
   "metadata": {},
   "outputs": [
    {
     "name": "stdout",
     "output_type": "stream",
     "text": [
      "cuda:0\n"
     ]
    }
   ],
   "source": [
    "device = torch.device(\"cuda:0\" if torch.cuda.is_available() else \"cpu\")\n",
    "print(device)"
   ]
  },
  {
   "cell_type": "code",
   "execution_count": 3,
   "metadata": {},
   "outputs": [],
   "source": [
    "# define transforms for normalization and data augmentation\n",
    "transform_augment = T.Compose([\n",
    "    T.RandomHorizontalFlip(),\n",
    "    T.RandomCrop(32, padding=4)])\n",
    "transform_normalize = T.Compose([\n",
    "    T.ToTensor(),\n",
    "    T.Normalize((0.5, 0.5, 0.5), (0.5, 0.5, 0.5))\n",
    "])"
   ]
  },
  {
   "cell_type": "code",
   "execution_count": 4,
   "metadata": {},
   "outputs": [],
   "source": [
    "NUM_TRAIN = 45000\n",
    "NUM_VAL = 5000\n",
    "batch_size = 64"
   ]
  },
  {
   "cell_type": "code",
   "execution_count": 5,
   "metadata": {},
   "outputs": [
    {
     "name": "stdout",
     "output_type": "stream",
     "text": [
      "Files already downloaded and verified\n"
     ]
    }
   ],
   "source": [
    "train_dataset = torchvision.datasets.CIFAR10(root='./dataset_train',\n",
    "                                             train=True,  \n",
    "                                             transform=T.Compose([transform_augment, transform_normalize]), \n",
    "                                             download=True)\n",
    "\n",
    "train_loader = torch.utils.data.DataLoader(dataset=train_dataset,\n",
    "                                           batch_size=batch_size, \n",
    "                                           shuffle=True)"
   ]
  },
  {
   "cell_type": "code",
   "execution_count": 6,
   "metadata": {},
   "outputs": [
    {
     "name": "stdout",
     "output_type": "stream",
     "text": [
      "Files already downloaded and verified\n"
     ]
    }
   ],
   "source": [
    "test_dataset = torchvision.datasets.CIFAR10(root='./dataset_test', train=False,\n",
    "                                       download=True, transform=transform_normalize)"
   ]
  },
  {
   "cell_type": "code",
   "execution_count": 7,
   "metadata": {},
   "outputs": [],
   "source": [
    "test_loader = torch.utils.data.DataLoader(test_dataset, batch_size=4,\n",
    "                                         shuffle=False)"
   ]
  },
  {
   "cell_type": "code",
   "execution_count": 8,
   "metadata": {},
   "outputs": [],
   "source": [
    "classes = ('plane', 'car', 'bird', 'cat', 'deer', 'dog', 'frog', 'horse', 'ship', 'truck')"
   ]
  },
  {
   "cell_type": "code",
   "execution_count": 9,
   "metadata": {},
   "outputs": [],
   "source": [
    "class Net(nn.Module):\n",
    "    def __init__(self):\n",
    "        super().__init__()\n",
    "        self.conv1 = nn.Conv2d(3, 6, 5)\n",
    "        self.pool = nn.MaxPool2d(2, 2)\n",
    "        self.conv2 = nn.Conv2d(6, 16, 5)\n",
    "        self.fc1 = nn.Linear(16 * 5 * 5, 120)\n",
    "        self.fc2 = nn.Linear(120, 84)\n",
    "        self.fc3 = nn.Linear(84, 10)\n",
    "\n",
    "    def forward(self, x):\n",
    "        x = self.pool(F.relu(self.conv1(x)))\n",
    "        x = self.pool(F.relu(self.conv2(x)))\n",
    "        x = x.view(-1, 16 * 5 * 5)\n",
    "        x = F.relu(self.fc1(x))\n",
    "        x = F.relu(self.fc2(x))\n",
    "        x = self.fc3(x)\n",
    "        return x"
   ]
  },
  {
   "cell_type": "code",
   "execution_count": 10,
   "metadata": {},
   "outputs": [],
   "source": [
    "net = Net().to(device)"
   ]
  },
  {
   "cell_type": "code",
   "execution_count": 11,
   "metadata": {},
   "outputs": [],
   "source": [
    "criterion = nn.CrossEntropyLoss()\n",
    "optimizer = optim.SGD(net.parameters(), lr=0.001, momentum=0.9)"
   ]
  },
  {
   "cell_type": "code",
   "execution_count": 17,
   "metadata": {},
   "outputs": [
    {
     "name": "stdout",
     "output_type": "stream",
     "text": [
      "epoch: 0. loss: 0.9397855531376647\n",
      "epoch: 1. loss: 0.9370761538100669\n",
      "epoch: 2. loss: 0.9292554861444342\n",
      "epoch: 3. loss: 0.9257059993646334\n",
      "epoch: 4. loss: 0.9273613303366219\n",
      "epoch: 5. loss: 0.9238768375438192\n",
      "epoch: 6. loss: 0.9203021370084085\n",
      "epoch: 7. loss: 0.9155241902679434\n",
      "epoch: 8. loss: 0.9186072803824149\n",
      "epoch: 9. loss: 0.9150896797628354\n",
      "epoch: 10. loss: 0.9154725395657523\n",
      "epoch: 11. loss: 0.9122917525603643\n",
      "epoch: 12. loss: 0.9074896445207279\n",
      "epoch: 13. loss: 0.9064462901381276\n",
      "epoch: 14. loss: 0.9010557797939881\n",
      "epoch: 15. loss: 0.9061496407936906\n",
      "epoch: 16. loss: 0.8974141185088536\n",
      "epoch: 17. loss: 0.8986834793749368\n",
      "epoch: 18. loss: 0.8901998694900357\n",
      "epoch: 19. loss: 0.8879977298514617\n",
      "epoch: 20. loss: 0.8909248929194478\n",
      "epoch: 21. loss: 0.8862545387366848\n",
      "epoch: 22. loss: 0.8892981741586914\n",
      "epoch: 23. loss: 0.8886293340140902\n",
      "epoch: 24. loss: 0.8838981498995095\n",
      "epoch: 25. loss: 0.8838374747720825\n",
      "epoch: 26. loss: 0.8780577802444662\n",
      "epoch: 27. loss: 0.8816320813068038\n",
      "epoch: 28. loss: 0.8753025053864549\n",
      "epoch: 29. loss: 0.8717414062956105\n",
      "epoch: 30. loss: 0.8716561086190021\n",
      "epoch: 31. loss: 0.8751127539235918\n",
      "epoch: 32. loss: 0.8742885728702521\n",
      "epoch: 33. loss: 0.8653201930358282\n",
      "epoch: 34. loss: 0.8665509680881525\n",
      "epoch: 35. loss: 0.8669914508719578\n",
      "epoch: 36. loss: 0.8662400200696247\n",
      "epoch: 37. loss: 0.8623571462948304\n",
      "epoch: 38. loss: 0.8571718560765161\n",
      "epoch: 39. loss: 0.8583041206192787\n",
      "epoch: 40. loss: 0.8535298456240188\n",
      "epoch: 41. loss: 0.8571713300007383\n",
      "epoch: 42. loss: 0.8570601600591484\n",
      "epoch: 43. loss: 0.8530325260766022\n",
      "epoch: 44. loss: 0.8536946291051557\n",
      "epoch: 45. loss: 0.8469756124803173\n",
      "epoch: 46. loss: 0.850830193828134\n",
      "epoch: 47. loss: 0.8499672113324676\n",
      "epoch: 48. loss: 0.845315126926088\n",
      "epoch: 49. loss: 0.8502904415283057\n",
      "epoch: 50. loss: 0.8424283388020742\n",
      "epoch: 51. loss: 0.8400324144021935\n",
      "epoch: 52. loss: 0.8448024828873022\n",
      "epoch: 53. loss: 0.8361755697166219\n",
      "epoch: 54. loss: 0.8369721121266674\n",
      "epoch: 55. loss: 0.8373185288723167\n",
      "epoch: 56. loss: 0.8341093270674996\n",
      "epoch: 57. loss: 0.8305629702556468\n",
      "epoch: 58. loss: 0.8306134206712094\n",
      "epoch: 59. loss: 0.8335888032870524\n",
      "epoch: 60. loss: 0.8303104688215743\n",
      "epoch: 61. loss: 0.8299439656917397\n",
      "epoch: 62. loss: 0.8331478448475108\n",
      "epoch: 63. loss: 0.8263210610812887\n",
      "epoch: 64. loss: 0.8207700757876687\n",
      "epoch: 65. loss: 0.8221655136255352\n",
      "epoch: 66. loss: 0.8214225118879772\n",
      "epoch: 67. loss: 0.8190138940616032\n",
      "epoch: 68. loss: 0.8212122959477822\n",
      "epoch: 69. loss: 0.8242115690884992\n",
      "Training is finished!\n"
     ]
    }
   ],
   "source": [
    "num_down_loss = 0\n",
    "loss_bufer = 0\n",
    "stat_loss = list()\n",
    "\n",
    "for epoch in range(70):  \n",
    "    running_loss_ = 0.0\n",
    "    running_loss = 0.0\n",
    "    for i, data in enumerate(train_loader, 0):\n",
    "        inputs, labels = data[0].cuda(), data[1].cuda()\n",
    "\n",
    "        # обнуляем градиент\n",
    "        optimizer.zero_grad()\n",
    "\n",
    "        outputs = net(inputs)\n",
    "        loss = criterion(outputs, labels)\n",
    "        loss.backward()\n",
    "        optimizer.step()\n",
    "\n",
    "        # выводим статистику о процессе обучения\n",
    "#         running_loss += loss.item()\n",
    "        running_loss_ += loss.item()\n",
    "        \n",
    "#         if i % 1000 == 0:    # печатаем каждые 300 mini-batches\n",
    "#             print('[%d, %5d] loss: %.3f' %\n",
    "#                   (epoch + 1, i + 1, running_loss / 1000))\n",
    "#             running_loss = 0.0\n",
    "    \n",
    "    running_loss_ = running_loss_ / len(train_loader)\n",
    "    print(f'epoch: {epoch}. loss: {running_loss_}')\n",
    "#     if loss_bufer < running_loss_:\n",
    "#         num_down_loss += 1\n",
    "#     else:\n",
    "#         num_down_loss = 0\n",
    "        \n",
    "    loss_bufer = running_loss_\n",
    "    stat_loss.append(running_loss_)\n",
    "    running_loss_ = 0\n",
    "    \n",
    "#     if num_down_loss > 20:\n",
    "#         print('Early stopping')\n",
    "#         break  \n",
    "        \n",
    "\n",
    "print('Training is finished!')"
   ]
  },
  {
   "cell_type": "code",
   "execution_count": 18,
   "metadata": {},
   "outputs": [
    {
     "data": {
      "image/png": "[encoded data removed]",
      "text/plain": [
       "<Figure size 432x288 with 1 Axes>"
      ]
     },
     "metadata": {
      "needs_background": "light"
     },
     "output_type": "display_data"
    }
   ],
   "source": [
    "plt.plot(stat_loss)\n",
    "plt.show()"
   ]
  },
  {
   "cell_type": "code",
   "execution_count": 19,
   "metadata": {},
   "outputs": [],
   "source": [
    "data_iter = iter(test_loader)\n",
    "images, labels = data_iter.next()"
   ]
  },
  {
   "cell_type": "code",
   "execution_count": 20,
   "metadata": {},
   "outputs": [
    {
     "name": "stderr",
     "output_type": "stream",
     "text": [
      "Clipping input data to the valid range for imshow with RGB data ([0..1] for floats or [0..255] for integers).\n"
     ]
    },
    {
     "name": "stdout",
     "output_type": "stream",
     "text": [
      "GroundTruth:    cat  ship  ship plane\n",
      "Predicted:      cat  ship  ship plane\n"
     ]
    },
    {
     "data": {
      "image/png": "[encoded data removed]",
      "text/plain": [
       "<Figure size 432x288 with 1 Axes>"
      ]
     },
     "metadata": {
      "needs_background": "light"
     },
     "output_type": "display_data"
    }
   ],
   "source": [
    "outputs = net(images.cuda())\n",
    "imgs = torchvision.utils.make_grid(images)\n",
    "plt.imshow(imgs.permute(1, 2, 0).numpy())\n",
    "print('GroundTruth: ', ' '.join('%5s' % classes[labels[j]] for j in range(4)))\n",
    "\n",
    "_, predicted = torch.max(outputs, 1)\n",
    "print('Predicted:   ', ' '.join('%5s' % classes[predicted[j]]\n",
    "                              for j in range(4)))"
   ]
  },
  {
   "cell_type": "markdown",
   "metadata": {},
   "source": [
    "Взять часть, где мы делали один шаг обучения, и обернуть его в цикл по схеме, как обучали модель в конце занятия."
   ]
  },
  {
   "cell_type": "code",
   "execution_count": 21,
   "metadata": {},
   "outputs": [
    {
     "name": "stdout",
     "output_type": "stream",
     "text": [
      "loss:  0.24399849772453308\n"
     ]
    }
   ],
   "source": [
    "linear = nn.Linear(2, 2)\n",
    "criterion = nn.MSELoss()\n",
    "optimizer = torch.optim.SGD(linear.parameters(), lr=0.01)\n",
    "\n",
    "x = Variable(torch.randn(2), requires_grad = True)\n",
    "y = Variable(torch.randn(2), requires_grad = False)\n",
    "\n",
    "dataset = torch.utils.data.TensorDataset(x, y)\n",
    "loader = torch.utils.data.DataLoader(dataset, batch_size=2, pin_memory=True)\n",
    "\n",
    "optimizer.zero_grad()\n",
    "pred = linear(x)\n",
    "loss = criterion(pred, y)\n",
    "print('loss: ', loss.item())"
   ]
  },
  {
   "cell_type": "code",
   "execution_count": 22,
   "metadata": {},
   "outputs": [
    {
     "name": "stdout",
     "output_type": "stream",
     "text": [
      "loss: 0.24399849772453308\n",
      "loss: 0.23897406458854675\n",
      "loss: 0.2340531200170517\n",
      "loss: 0.2292335033416748\n",
      "loss: 0.22451308369636536\n",
      "loss: 0.21988990902900696\n",
      "loss: 0.21536192297935486\n",
      "loss: 0.21092715859413147\n",
      "loss: 0.20658376812934875\n",
      "loss: 0.20232978463172913\n",
      "Training is finished!\n"
     ]
    }
   ],
   "source": [
    "for epoch in range(10):  \n",
    "    running_loss = 0.0\n",
    "    for i, data in enumerate(loader):\n",
    "        inputs, labels = data[0], data[1]\n",
    "\n",
    "        # обнуляем градиент\n",
    "        optimizer.zero_grad()\n",
    "\n",
    "        outputs = linear(inputs)\n",
    "        loss = criterion(outputs, labels)\n",
    "        loss.backward()\n",
    "        optimizer.step()\n",
    "        running_loss += loss.item()\n",
    "    print(f'loss: {running_loss/len(loader)}')\n",
    "    running_loss=0\n",
    "\n",
    "print('Training is finished!')"
   ]
  },
  {
   "cell_type": "markdown",
   "metadata": {},
   "source": [
    "Переписать на PyTorch:"
   ]
  },
  {
   "cell_type": "code",
   "execution_count": null,
   "metadata": {},
   "outputs": [],
   "source": [
    "class Net(nn.Module):\n",
    "    def __init__(self):\n",
    "        super().__init__()\n",
    "        self.f1 = nn.Flatten((28, 28),128)\n",
    "        self.l1 = nn.Linear(128, 128)\n",
    "        self.d1 = nn.Dropout(0.2)\n",
    "        self.l2 = nn.Linear(128, 10)\n",
    "\n",
    "    def forward(self, x):\n",
    "        x = self.f1(x)\n",
    "        x = F.relu(self.l1(x))\n",
    "        x = self.d1(x)\n",
    "        x = F.softmax(self.l2(x))\n",
    "        return x"
   ]
  }
 ],
 "metadata": {
  "kernelspec": {
   "display_name": "Python 3",
   "language": "python",
   "name": "python3"
  },
  "language_info": {
   "codemirror_mode": {
    "name": "ipython",
    "version": 3
   },
   "file_extension": ".py",
   "mimetype": "text/x-python",
   "name": "python",
   "nbconvert_exporter": "python",
   "pygments_lexer": "ipython3",
   "version": "3.7.6"
  }
 },
 "nbformat": 4,
 "nbformat_minor": 4
}
